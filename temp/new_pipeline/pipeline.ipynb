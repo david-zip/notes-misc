{
 "cells": [
  {
   "cell_type": "code",
   "execution_count": 2,
   "metadata": {},
   "outputs": [
    {
     "name": "stdout",
     "output_type": "stream",
     "text": [
      "sagemaker.config INFO - Not applying SDK defaults from location: C:\\ProgramData\\sagemaker\\sagemaker\\config.yaml\n",
      "sagemaker.config INFO - Not applying SDK defaults from location: C:\\Users\\n529139.IAGAD\\AppData\\Local\\sagemaker\\sagemaker\\config.yaml\n"
     ]
    }
   ],
   "source": [
    "# import relevant modules\n",
    "import os\n",
    "import boto3\n",
    "import sagemaker\n",
    "\n",
    "from sagemaker.workflow.parameters import (\n",
    "    ParameterInteger,\n",
    "    ParameterString\n",
    ")\n",
    "\n",
    "from sagemaker.processing import (\n",
    "    ProcessingInput,\n",
    "    ProcessingOutput,\n",
    "    ScriptProcessor\n",
    ")\n",
    "\n",
    "from sagemaker.workflow.steps import (\n",
    "    ProcessingStep,\n",
    "    TuningStep,\n",
    "    HyperparameterTuner,\n",
    "    Model\n",
    ")\n",
    "\n",
    "from sagemaker.workflow.model_step import ModelStep\n",
    "\n",
    "from sagemaker.estimator import Estimator\n",
    "from sagemaker.inputs import TrainingInput\n",
    "from sagemaker.xgboost import XGBoostPredictor\n",
    "from sagemaker.parameter import IntegerParameter\n",
    "from sagemaker.sklearn.processing import SKLearnProcessor"
   ]
  },
  {
   "cell_type": "code",
   "execution_count": null,
   "metadata": {},
   "outputs": [],
   "source": [
    "# define pipeline job names\n",
    "base_job_name = \"INSERT_NAME_HERE\"\n",
    "pipeline_name = \"INSERT_PIPELINE_NAME\"\n",
    "region = 'eu-west-1'\n",
    "\n",
    "BASE_DIR = os.path.abspath('')"
   ]
  },
  {
   "cell_type": "code",
   "execution_count": 9,
   "metadata": {},
   "outputs": [
    {
     "name": "stdout",
     "output_type": "stream",
     "text": [
      "sagemaker.config INFO - Not applying SDK defaults from location: C:\\ProgramData\\sagemaker\\sagemaker\\config.yaml\n",
      "sagemaker.config INFO - Not applying SDK defaults from location: C:\\Users\\n529139.IAGAD\\AppData\\Local\\sagemaker\\sagemaker\\config.yaml\n",
      "sagemaker.config INFO - Not applying SDK defaults from location: C:\\ProgramData\\sagemaker\\sagemaker\\config.yaml\n",
      "sagemaker.config INFO - Not applying SDK defaults from location: C:\\Users\\n529139.IAGAD\\AppData\\Local\\sagemaker\\sagemaker\\config.yaml\n"
     ]
    }
   ],
   "source": [
    "# initialise sagemaker session\n",
    "default_bucket = 'NAME_BUCKET_HERE'\n",
    "\n",
    "boto_session = boto3.Session(region_name=region)\n",
    "sagemaker_client = boto_session.client('sagemaker')\n",
    "sagemaker_session = sagemaker.session.Session(\n",
    "    boto_session=boto_session,\n",
    "    sagemaker_client=sagemaker_client,\n",
    "    default_bucket=default_bucket\n",
    ")\n",
    "\n",
    "pipeline_session = sagemaker.workflow.pipeline_context.PipelineSession(\n",
    "    boto_session=boto_session,\n",
    "    sagemaker_client=sagemaker_client,\n",
    "    default_bucket=default_bucket\n",
    ")\n",
    "\n",
    "role = sagemaker.session.get_execution_role(sagemaker_session) "
   ]
  },
  {
   "cell_type": "code",
   "execution_count": null,
   "metadata": {},
   "outputs": [],
   "source": [
    "# initialise pipeline parameters\n",
    "\n",
    "processing_instance_count = ParameterInteger(\n",
    "    name='ProcessingInstanceCount',\n",
    "    default_value=1\n",
    ")\n",
    "\n",
    "processing_instance_type = ParameterString(\n",
    "    name='ProcessingInstanceType',\n",
    "    default_value=r'ml.m5.xlarge'\n",
    ")\n",
    "\n",
    "model_approval_status = ParameterString(\n",
    "    name='ModelApprovalStatus',\n",
    "    default_value='PendingManualApproval'\n",
    ")\n",
    "\n",
    "input_data = ParameterString(\n",
    "    name='InputDataUrl',\n",
    "    default_value=''\n",
    ")"
   ]
  },
  {
   "cell_type": "code",
   "execution_count": null,
   "metadata": {},
   "outputs": [],
   "source": [
    "# preprocess data\n",
    "sklearn_processor = SKLearnProcessor(\n",
    "    framework_version='0.23-1',\n",
    "    instance_type=processing_instance_type,\n",
    "    instance_count=processing_instance_count,\n",
    "    base_job_name=f'{base_job_name}/sklearn-ticket-price-preprocessing',\n",
    "    sagemaker_session=sagemaker_session,\n",
    "    role=role\n",
    ")\n",
    "\n",
    "step_args = sklearn_processor.run(\n",
    "    outputs=[\n",
    "        ProcessingOutput(\n",
    "            output_name='train',\n",
    "            source='/opt/ml/processing/train'\n",
    "        ),\n",
    "        ProcessingOutput(\n",
    "            output_name='test',\n",
    "            source='/opt/ml/processing/test'\n",
    "        ),\n",
    "        ProcessingOutput(\n",
    "            output_name='validation',\n",
    "            source='/opt/ml/processing/validation'\n",
    "        )\n",
    "    ],\n",
    "    code=os.path.join(BASE_DIR, 'preprocess.py'),\n",
    "    arguments=['--input-data', input_data]\n",
    ")\n",
    "\n",
    "step_process = ProcessingStep(\n",
    "    name=f'Preprocessing{base_job_name}',\n",
    "    step_args=step_args\n",
    ")"
   ]
  },
  {
   "cell_type": "code",
   "execution_count": 11,
   "metadata": {},
   "outputs": [
    {
     "name": "stdout",
     "output_type": "stream",
     "text": [
      "<bound method Session.default_bucket of <sagemaker.session.Session object at 0x000001F30218DDC0>>\n"
     ]
    }
   ],
   "source": [
    "# initialise train xgboost model\n",
    "model_path = f's3://{sagemaker_session.default_bucket()}/{base_job_name}/AirlineTicketTrain'\n",
    "\n",
    "# initialise xgboost training algorithm\n",
    "image_uri = sagemaker.image_uris.retrieve(\n",
    "    framework='xgboost',\n",
    "    region=region,\n",
    "    version='1.0-1',\n",
    "    py_version='py3',\n",
    "    instance_type=processing_instance_type\n",
    ")\n",
    "\n",
    "xgb_train = Estimator(\n",
    "    image_uri=image_uri,\n",
    "    instance_type=processing_instance_type,\n",
    "    instance_count=processing_instance_count,\n",
    "    output_path=model_path,\n",
    "    base_job_name=f'{base_job_name}/airline-ticket-training',\n",
    "    sagemaker_session=pipeline_session,\n",
    "    role=role\n",
    ")\n",
    "\n",
    "xgb_train.set_hyperparameters(\n",
    "    eval_metric='rmse',\n",
    "    objective=\"reg:squarederror\",\n",
    "    num_round=50,\n",
    "    max_depth=10,\n",
    "    min_child_weight=6,\n",
    "    subsample=0.5,\n",
    "    silent=0\n",
    ")\n",
    "    "
   ]
  },
  {
   "cell_type": "code",
   "execution_count": null,
   "metadata": {},
   "outputs": [],
   "source": [
    "# initialise hyperparameter tuner\n",
    "objective_metric_name = 'validation:rmse'\n",
    "\n",
    "hyperparameter_ranges = {\n",
    "    'max_depth': IntegerParameter(min_value=6, max_value= 9, scaling_type='Linear')\n",
    "}\n",
    "\n",
    "tuner_log = HyperparameterTuner(\n",
    "    estimator=xgb_train,\n",
    "    objective_metric_name=objective_metric_name,\n",
    "    hyperparameter_ranges=hyperparameter_ranges,\n",
    "    max_jobs=3,\n",
    "    max_parallel_jobs=3,\n",
    "    strategy='random'\n",
    ")"
   ]
  },
  {
   "cell_type": "code",
   "execution_count": null,
   "metadata": {},
   "outputs": [],
   "source": [
    "# train xgboost model\n",
    "step_args = tuner_log.fit(\n",
    "    inputs={\n",
    "        \"train\": TrainingInput(\n",
    "            s3_data=step_process.properties.ProcessingOutputConfig.Outputs[\n",
    "                \"train\"\n",
    "            ].S3Output.S3Uri,\n",
    "            content_type=\"text/csv\"\n",
    "        ),\n",
    "        \"validation\": TrainingInput(\n",
    "            s3_data=step_process.properties.ProcessingOutputConfig.Outputs[\n",
    "                \"validation\"\n",
    "            ].S3Output.S3Uri,\n",
    "            content_type=\"text/csv\"\n",
    "        )\n",
    "    }\n",
    ")\n",
    "\n",
    "step_tune = TuningStep(\n",
    "    name=\"HPOTuningAirlinePrice\",\n",
    "    step_args=step_args\n",
    ")"
   ]
  },
  {
   "cell_type": "code",
   "execution_count": null,
   "metadata": {},
   "outputs": [],
   "source": [
    "# create sagemaker model from best performing hyperparameter\n",
    "model_prefix = f'{base_job_name}/AirlineTicketTrain'\n",
    "\n",
    "model = Model(\n",
    "    image_uri=image_uri,\n",
    "    model_data=step_tune.get_top_model_s3_uri(\n",
    "        top_k=0,\n",
    "        s3_bucket=default_bucket,\n",
    "        prefix=model_prefix\n",
    "    ),\n",
    "    predictor_cls=XGBoostPredictor,\n",
    "    sagemamer_session=sagemaker_session,\n",
    "    role=role\n",
    ")\n",
    "\n",
    "step_model = ModelStep(\n",
    "    name='CreateModel',\n",
    "    step_args=model.create(instance_type=processing_instance_type)\n",
    ")"
   ]
  }
 ],
 "metadata": {
  "kernelspec": {
   "display_name": "Python 3",
   "language": "python",
   "name": "python3"
  },
  "language_info": {
   "codemirror_mode": {
    "name": "ipython",
    "version": 3
   },
   "file_extension": ".py",
   "mimetype": "text/x-python",
   "name": "python",
   "nbconvert_exporter": "python",
   "pygments_lexer": "ipython3",
   "version": "3.8.0"
  }
 },
 "nbformat": 4,
 "nbformat_minor": 2
}
